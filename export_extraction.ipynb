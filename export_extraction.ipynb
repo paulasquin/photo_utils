{
 "cells": [
  {
   "cell_type": "markdown",
   "metadata": {},
   "source": [
    "# Exported extraction\n",
    "Export files which has been processed to another folder to be stored without raw files"
   ]
  },
  {
   "cell_type": "code",
   "execution_count": null,
   "metadata": {},
   "outputs": [],
   "source": [
    "import os\n",
    "import glob\n",
    "import shutil\n",
    "\n",
    "INPUT_FOLDER = \"/host/photos_input\"\n",
    "OUTPUT_FOLDER = \"/host/photos_output\""
   ]
  },
  {
   "cell_type": "code",
   "execution_count": null,
   "metadata": {},
   "outputs": [],
   "source": [
    "def load_all_files(folder_path):\n",
    "    \"\"\"Return all files under provided folder\n",
    "    :param folder_path: str, path to root folder to consider\n",
    "    \"\"\"\n",
    "    return glob.glob(os.path.join(folder_path, \"**/*.jpg\"), recursive=True)"
   ]
  },
  {
   "cell_type": "code",
   "execution_count": null,
   "metadata": {},
   "outputs": [],
   "source": [
    "all_files_path = load_all_files(INPUT_FOLDER)"
   ]
  },
  {
   "cell_type": "code",
   "execution_count": null,
   "metadata": {},
   "outputs": [],
   "source": [
    "def get_exported_files(files_path):\n",
    "    \"\"\"Return list of files which have been exported (not at the root of the images folder, i.e. not at depth 1)\n",
    "    :param files_path: list of str, list of path to photos to analyse\n",
    "    :return les_exported_path: list of str, list of path to exported photos\n",
    "    \"\"\"\n",
    "    \n",
    "    les_exported_path = []\n",
    "    for file_path in files_path:\n",
    "        if file_path.count('/') > 4:\n",
    "            # File is exported\n",
    "            les_exported_path.append(file_path)\n",
    "    return les_exported_path"
   ]
  },
  {
   "cell_type": "code",
   "execution_count": null,
   "metadata": {},
   "outputs": [],
   "source": [
    "les_exported_path = get_exported_files(all_files_path)"
   ]
  },
  {
   "cell_type": "code",
   "execution_count": null,
   "metadata": {},
   "outputs": [],
   "source": [
    "def generate_export_name(input_path):\n",
    "    return input_path.replace(INPUT_FOLDER, OUTPUT_FOLDER)"
   ]
  },
  {
   "cell_type": "code",
   "execution_count": null,
   "metadata": {},
   "outputs": [],
   "source": [
    "generate_export_name(les_exported_path[0])"
   ]
  },
  {
   "cell_type": "code",
   "execution_count": null,
   "metadata": {},
   "outputs": [],
   "source": [
    "def copy_export(les_exported, simulation=True):\n",
    "    for index, exported in enumerate(les_exported):\n",
    "        exported_output = generate_export_name(exported)\n",
    "        dirname = os.path.dirname(exported_output)\n",
    "        \n",
    "        \n",
    "        if not os.path.isdir(dirname):\n",
    "            print(f\"Creating folder {dirname}\")\n",
    "            if not simulation:\n",
    "                os.makedirs(dirname)\n",
    "        \n",
    "        if not os.path.isfile(exported_output):\n",
    "            print(f\"#{index + 1}/{len(les_exported)} Copying {exported} to {exported_output}\", end=\"\\r\")\n",
    "            if not simulation:\n",
    "                shutil.copy(exported, exported_output)"
   ]
  },
  {
   "cell_type": "code",
   "execution_count": null,
   "metadata": {},
   "outputs": [],
   "source": [
    "copy_export(les_exported=les_exported_path, simulation=False)"
   ]
  },
  {
   "cell_type": "code",
   "execution_count": null,
   "metadata": {},
   "outputs": [],
   "source": []
  }
 ],
 "metadata": {
  "kernelspec": {
   "display_name": "Python 3",
   "language": "python",
   "name": "python3"
  },
  "language_info": {
   "codemirror_mode": {
    "name": "ipython",
    "version": 3
   },
   "file_extension": ".py",
   "mimetype": "text/x-python",
   "name": "python",
   "nbconvert_exporter": "python",
   "pygments_lexer": "ipython3",
   "version": "3.8.4"
  }
 },
 "nbformat": 4,
 "nbformat_minor": 4
}
