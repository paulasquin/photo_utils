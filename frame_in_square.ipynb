{
 "cells": [
  {
   "cell_type": "markdown",
   "metadata": {},
   "source": [
    "# Frame in Square\n",
    "This project aims is to frame the provided images in a white square of provided size."
   ]
  },
  {
   "cell_type": "code",
   "execution_count": null,
   "metadata": {
    "scrolled": true
   },
   "outputs": [],
   "source": [
    "import os\n",
    "import glob\n",
    "from PIL import Image"
   ]
  },
  {
   "cell_type": "code",
   "execution_count": null,
   "metadata": {},
   "outputs": [],
   "source": [
    "INPUT_DIR_PATH = \"/host/workdir/photos_size\"\n",
    "OUTPUT_DIR_PATH = \"/host/workdir/bordure\""
   ]
  },
  {
   "cell_type": "code",
   "execution_count": null,
   "metadata": {},
   "outputs": [],
   "source": [
    "les_input_images = glob.glob(os.path.join(INPUT_DIR_PATH, \"*/*.jpg\"))"
   ]
  },
  {
   "cell_type": "code",
   "execution_count": null,
   "metadata": {},
   "outputs": [],
   "source": [
    "def generate_output_path(input_path):\n",
    "    return os.path.join(OUTPUT_DIR_PATH, os.path.basename(input_path))\n",
    "    "
   ]
  },
  {
   "cell_type": "code",
   "execution_count": null,
   "metadata": {},
   "outputs": [],
   "source": [
    "def export_frame_in_square(input_image_path, square_size=2000):\n",
    "    \n",
    "    output_image_path = generate_output_path(input_image_path)\n",
    "    if os.path.isfile(output_image_path):\n",
    "        print(f\"{output_image_path} already exists, passing\")\n",
    "    # Load image\n",
    "    image = Image.open(input_image_path)\n",
    "    \n",
    "    # Get size \n",
    "    width, height = image.size\n",
    "    background_color = (255, 255, 255)\n",
    "    new_image = None\n",
    "    \n",
    "    # If already square\n",
    "    if width == height:\n",
    "        new_image = image\n",
    "        \n",
    "    elif width > height:\n",
    "        new_image = Image.new(image.mode, (width, width), background_color)\n",
    "        new_image.paste(image, (0, (width - height) // 2))\n",
    "        \n",
    "    else:\n",
    "        new_image = Image.new(image.mode, (height, height), background_color)\n",
    "        new_image.paste(image, ((height - width) // 2, 0))\n",
    "        \n",
    "    new_image.resize((square_size, square_size))\n",
    "    new_image.save(output_image_path, quality=100)\n",
    "    print(output_image_path)"
   ]
  },
  {
   "cell_type": "code",
   "execution_count": null,
   "metadata": {},
   "outputs": [],
   "source": [
    "for image_path in les_input_images:\n",
    "    export_frame_in_square(image_path)"
   ]
  },
  {
   "cell_type": "code",
   "execution_count": null,
   "metadata": {},
   "outputs": [],
   "source": []
  }
 ],
 "metadata": {
  "kernelspec": {
   "display_name": "Python 3",
   "language": "python",
   "name": "python3"
  },
  "language_info": {
   "codemirror_mode": {
    "name": "ipython",
    "version": 3
   },
   "file_extension": ".py",
   "mimetype": "text/x-python",
   "name": "python",
   "nbconvert_exporter": "python",
   "pygments_lexer": "ipython3",
   "version": "3.8.4"
  }
 },
 "nbformat": 4,
 "nbformat_minor": 4
}
