{
 "cells": [
  {
   "cell_type": "markdown",
   "metadata": {},
   "source": [
    "# Frame in Square\n",
    "This project aims is to frame the provided images in a white square of provided size."
   ]
  },
  {
   "cell_type": "code",
   "execution_count": null,
   "metadata": {
    "scrolled": true
   },
   "outputs": [],
   "source": [
    "import os\n",
    "import glob\n",
    "from PIL import Image"
   ]
  },
  {
   "cell_type": "code",
   "execution_count": null,
   "metadata": {},
   "outputs": [],
   "source": [
    "INPUT_DIR_PATH = \"/host/workdir/photos_size\"\n",
    "OUTPUT_DIR_PATH = \"/host/workdir/bordure\"\n",
    "print(f\"Working on host {os.environ['WORKDIR_PHOTOS']}\")"
   ]
  },
  {
   "cell_type": "code",
   "execution_count": null,
   "metadata": {},
   "outputs": [],
   "source": [
    "les_input_images = [path for path in glob.glob(os.path.join(INPUT_DIR_PATH, \"*/*.jpg\")) if \"bordure\" not in path and \"light\" not in path]\n",
    "\n",
    "print(f\"Found {len(les_input_images)} images.\")\n",
    "print(\"\\n\".join(\n",
    "    les_input_images[0:len(les_input_images)//5] \n",
    "    + [\"...\"])\n",
    "     )"
   ]
  },
  {
   "cell_type": "code",
   "execution_count": null,
   "metadata": {},
   "outputs": [],
   "source": [
    "def generate_output_path(input_path, suffix=\"None\"):\n",
    "    name = os.path.basename(input_path)\n",
    "    \n",
    "    if suffix is not None:\n",
    "        name = \".\".join(name.split(\".\")[:-1]) + \"_\" + str(suffix) + \".\" + name.split(\".\")[-1]\n",
    "        \n",
    "    return os.path.join(OUTPUT_DIR_PATH, name) "
   ]
  },
  {
   "cell_type": "code",
   "execution_count": null,
   "metadata": {},
   "outputs": [],
   "source": [
    "def export_in_frame(input_image_path, output_image_path, frame_width=2000, propose_4x5=True):\n",
    "    if os.path.isfile(output_image_path):\n",
    "        print(f\"{output_image_path} already exists, passing\")\n",
    "        return 0\n",
    "    # Load image\n",
    "    image = Image.open(input_image_path)\n",
    "    \n",
    "    # Get size \n",
    "    width, height = image.size\n",
    "    background_color = (255, 255, 255)\n",
    "    new_image = None\n",
    "    new_image_4x5 = None\n",
    "    \n",
    "    # If already square\n",
    "    if width == height:\n",
    "        new_image = image\n",
    "        \n",
    "    elif width > height:\n",
    "        new_image = Image.new(\"RGB\", (width, width), background_color)\n",
    "        new_image.paste(image, (0, (width - height) // 2))\n",
    "        \n",
    "    else:\n",
    "        new_image = Image.new(\"RGB\", (height, height), background_color)\n",
    "        new_image.paste(image, ((height - width) // 2, 0))\n",
    "    \n",
    "    if propose_4x5 and height/width >= 5.0/4:\n",
    "        print(f\"Proposing 4x5 framing\")\n",
    "        # Let's also propose 4x5 framing\n",
    "        new_image_4x5 = Image.new(\"RGB\", (int(height*(4.0/5)), height), background_color)\n",
    "        new_image_4x5.paste(image, (int(height*(4.0/5) - width) // 2, 0))\n",
    "            \n",
    "    \n",
    "    if frame_width is not None:\n",
    "        new_image = new_image.resize((frame_width, frame_width))\n",
    "        if new_image_4x5 is not None:\n",
    "            new_image_4x5 = new_image_4x5.resize((frame_width, int(frame_width*(5.0/4))))\n",
    "        \n",
    "    \n",
    "    new_image.save(output_image_path, quality=100)\n",
    "    if new_image_4x5 is not None:\n",
    "        new_image_4x5.save(generate_output_path(input_image_path, suffix=\"4x5\"), quality=100)"
   ]
  },
  {
   "cell_type": "code",
   "execution_count": null,
   "metadata": {},
   "outputs": [],
   "source": [
    "les_name = []\n",
    "for index, input_image_path in enumerate(les_input_images):\n",
    "    # Check if name already in use\n",
    "    name = os.path.basename(input_image_path)\n",
    "    # Count n occurences to define suffix\n",
    "    if les_name.count(name) > 0:\n",
    "        suffix = les_name.count(name)\n",
    "    else:\n",
    "        suffix = None\n",
    "    # Add name to memory\n",
    "    les_name.append(name)\n",
    "    output_image_path = generate_output_path(input_image_path, suffix=suffix)\n",
    "        \n",
    "    \n",
    "    print(f\"{index+1}/{len(les_input_images)}: {input_image_path} > {os.path.basename(output_image_path)}\" + \" \"*30)\n",
    "    export_in_frame(input_image_path, output_image_path, frame_width=3000, propose_4x5=False)"
   ]
  },
  {
   "cell_type": "code",
   "execution_count": null,
   "metadata": {},
   "outputs": [],
   "source": []
  }
 ],
 "metadata": {
  "kernelspec": {
   "display_name": "Python 3",
   "language": "python",
   "name": "python3"
  },
  "language_info": {
   "codemirror_mode": {
    "name": "ipython",
    "version": 3
   },
   "file_extension": ".py",
   "mimetype": "text/x-python",
   "name": "python",
   "nbconvert_exporter": "python",
   "pygments_lexer": "ipython3",
   "version": "3.7.9"
  }
 },
 "nbformat": 4,
 "nbformat_minor": 4
}
